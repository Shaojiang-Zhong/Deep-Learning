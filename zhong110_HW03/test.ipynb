{
 "cells": [
  {
   "cell_type": "code",
   "execution_count": 1,
   "metadata": {},
   "outputs": [],
   "source": [
    "from neural_network import NeuralNetwork\n",
    "from nn2 import NeuralNetwork2\n",
    "import matplotlib.pyplot as plt\n",
    "import torch\n",
    "from logic_gates import AND\n",
    "from logic_gates import OR\n",
    "from logic_gates import NOT\n",
    "from logic_gates import XOR"
   ]
  },
  {
   "cell_type": "code",
   "execution_count": 2,
   "metadata": {},
   "outputs": [
    {
     "name": "stdout",
     "output_type": "stream",
     "text": [
      "True\n",
      "False\n",
      "True\n",
      "False\n"
     ]
    }
   ],
   "source": [
    "And = AND()\n",
    "#print(And.nn.theta)\n",
    "print(And(True, True))\n",
    "print(And(True, False))\n",
    "print(And(False, True))\n",
    "print(And(False, False))"
   ]
  },
  {
   "cell_type": "code",
   "execution_count": 3,
   "metadata": {},
   "outputs": [
    {
     "name": "stdout",
     "output_type": "stream",
     "text": [
      "False\n",
      "False\n",
      "False\n",
      "True\n"
     ]
    }
   ],
   "source": [
    "Or = OR()\n",
    "#print(Or.nn.theta)\n",
    "print(Or(True, True))\n",
    "print(Or(True, False))\n",
    "print(Or(False, True))\n",
    "print(Or(False, False))"
   ]
  },
  {
   "cell_type": "code",
   "execution_count": 4,
   "metadata": {},
   "outputs": [
    {
     "name": "stdout",
     "output_type": "stream",
     "text": [
      "False\n",
      "False\n"
     ]
    }
   ],
   "source": [
    "Not = NOT()\n",
    "#print(Not.nn.theta)\n",
    "print(Not(False))\n",
    "print(Not(True))"
   ]
  },
  {
   "cell_type": "code",
   "execution_count": 5,
   "metadata": {},
   "outputs": [
    {
     "name": "stdout",
     "output_type": "stream",
     "text": [
      "False\n",
      "False\n",
      "False\n",
      "False\n"
     ]
    }
   ],
   "source": [
    "Xor = XOR()\n",
    "#print(Xor.nn.theta)\n",
    "print(Xor(True, True))\n",
    "print(Xor(True, False))\n",
    "print(Xor(False, True))\n",
    "print(Xor(False, False))"
   ]
  },
  {
   "cell_type": "code",
   "execution_count": 6,
   "metadata": {},
   "outputs": [],
   "source": [
    "nn = NeuralNetwork(2,2,1)\n",
    "#nn2 = NeuralNetwork(2,3,1)\n"
   ]
  },
  {
   "cell_type": "code",
   "execution_count": 7,
   "metadata": {},
   "outputs": [
    {
     "name": "stdout",
     "output_type": "stream",
     "text": [
      "{0: tensor([[ 0.3328,  0.1424],\n",
      "        [ 0.5449, -0.1696],\n",
      "        [ 0.0864, -1.1837]], dtype=torch.float64), 1: tensor([[-0.0299],\n",
      "        [-0.4537],\n",
      "        [ 0.4340]], dtype=torch.float64)}\n",
      "{0: tensor([[ 0.3328,  0.1424],\n",
      "        [ 0.5449, -0.1696],\n",
      "        [ 0.0864, -1.1837]], dtype=torch.float64), 1: tensor([[-0.0299],\n",
      "        [-0.4537],\n",
      "        [ 0.4340]], dtype=torch.float64)}\n"
     ]
    }
   ],
   "source": [
    "print(nn.Theta)\n",
    "#print(nn2.Theta)\n",
    "#nn2.Theta['Theta(layer0-layer1)'] = nn.Theta[0].float()\n",
    "#nn2.Theta['Theta(layer1-layer2)'] = (nn.Theta[1]).t().float()\n",
    "print(nn.Theta)\n",
    "#print(nn2.Theta)"
   ]
  },
  {
   "cell_type": "code",
   "execution_count": 8,
   "metadata": {},
   "outputs": [
    {
     "data": {
      "text/plain": [
       "tensor([0.4525], dtype=torch.float64)"
      ]
     },
     "execution_count": 8,
     "metadata": {},
     "output_type": "execute_result"
    }
   ],
   "source": [
    "nn.forward(torch.tensor([0,1], dtype=torch.double))\n",
    "#nn2.forward(torch.tensor([3,4], dtype=torch.double))"
   ]
  },
  {
   "cell_type": "code",
   "execution_count": 9,
   "metadata": {},
   "outputs": [
    {
     "name": "stdout",
     "output_type": "stream",
     "text": [
      "{0: tensor([[1.],\n",
      "        [0.],\n",
      "        [1.]], dtype=torch.float64), 1: tensor([[1.0000],\n",
      "        [0.6033],\n",
      "        [0.2609]], dtype=torch.float64), 2: tensor([[0.4525]], dtype=torch.float64)}\n",
      "{1: tensor([[ 0.4192],\n",
      "        [-1.0413]], dtype=torch.float64), 2: tensor([[-0.1904]], dtype=torch.float64)}\n"
     ]
    }
   ],
   "source": [
    "print(nn.a)\n",
    "print(nn.z)\n",
    "#print(nn2.a)\n",
    "#print(nn2.z)"
   ]
  },
  {
   "cell_type": "code",
   "execution_count": 10,
   "metadata": {},
   "outputs": [],
   "source": [
    "#nn.forward(torch.tensor([[21,35,87,90],[90,23,45,12]],dtype=torch.double))\n",
    "#nn2.forward(torch.tensor([[21,35,87,90],[90,23,45,12]],dtype=torch.float))"
   ]
  },
  {
   "cell_type": "code",
   "execution_count": 11,
   "metadata": {},
   "outputs": [
    {
     "name": "stdout",
     "output_type": "stream",
     "text": [
      "{0: tensor([[1.],\n",
      "        [0.],\n",
      "        [1.]], dtype=torch.float64), 1: tensor([[1.0000],\n",
      "        [0.6033],\n",
      "        [0.2609]], dtype=torch.float64), 2: tensor([[0.4525]], dtype=torch.float64)}\n",
      "{1: tensor([[ 0.4192],\n",
      "        [-1.0413]], dtype=torch.float64), 2: tensor([[-0.1904]], dtype=torch.float64)}\n"
     ]
    }
   ],
   "source": [
    "print(nn.a)\n",
    "print(nn.z)\n",
    "#print(nn2.a)\n",
    "#print(nn2.z)\n"
   ]
  },
  {
   "cell_type": "code",
   "execution_count": 12,
   "metadata": {},
   "outputs": [],
   "source": [
    "nn.backward(torch.tensor([[1]], dtype=torch.double))\n",
    "#nn2.backward(torch.tensor([[1,2,3,4]], dtype=torch.double))"
   ]
  },
  {
   "cell_type": "code",
   "execution_count": 13,
   "metadata": {},
   "outputs": [
    {
     "name": "stdout",
     "output_type": "stream",
     "text": [
      "{1: tensor([[-0.1356],\n",
      "        [-0.0818],\n",
      "        [-0.0354]], dtype=torch.float64), 0: tensor([[ 0.0147, -0.0114],\n",
      "        [ 0.0000,  0.0000],\n",
      "        [ 0.0147, -0.0114]], dtype=torch.float64)}\n"
     ]
    }
   ],
   "source": [
    "print(nn.dE_dTheta)\n",
    "#print(nn2.dE_dTheta)\n"
   ]
  },
  {
   "cell_type": "code",
   "execution_count": 14,
   "metadata": {},
   "outputs": [
    {
     "name": "stdout",
     "output_type": "stream",
     "text": [
      "{0: tensor([[ 0.3328,  0.1424],\n",
      "        [ 0.5449, -0.1696],\n",
      "        [ 0.0864, -1.1837]], dtype=torch.float64), 1: tensor([[-0.0299],\n",
      "        [-0.4537],\n",
      "        [ 0.4340]], dtype=torch.float64)}\n",
      "{0: tensor([[ 0.3326,  0.1425],\n",
      "        [ 0.5449, -0.1696],\n",
      "        [ 0.0862, -1.1836]], dtype=torch.float64), 1: tensor([[-0.0286],\n",
      "        [-0.4528],\n",
      "        [ 0.4343]], dtype=torch.float64)}\n"
     ]
    }
   ],
   "source": [
    "print(nn.Theta)\n",
    "nn.updateParams(0.01)\n",
    "print(nn.Theta)"
   ]
  },
  {
   "cell_type": "code",
   "execution_count": 15,
   "metadata": {},
   "outputs": [
    {
     "name": "stdout",
     "output_type": "stream",
     "text": [
      "{0: tensor([[-4.9380],\n",
      "        [ 3.2165],\n",
      "        [ 3.2167]], dtype=torch.float64)}\n"
     ]
    },
    {
     "data": {
      "image/png": "[encoded data removed]",
      "text/plain": [
       "<Figure size 432x288 with 1 Axes>"
      ]
     },
     "metadata": {},
     "output_type": "display_data"
    },
    {
     "name": "stdout",
     "output_type": "stream",
     "text": [
      "loop ends, here's the theta\n",
      "{0: tensor([[-4.9380],\n",
      "        [ 3.2165],\n",
      "        [ 3.2167]], dtype=torch.float64)}\n",
      "True\n",
      "False\n",
      "False\n",
      "False\n"
     ]
    }
   ],
   "source": [
    "And.train()\n",
    "print(And(True, True))\n",
    "print(And(True, False))\n",
    "print(And(False, True))\n",
    "print(And(False, False))"
   ]
  },
  {
   "cell_type": "code",
   "execution_count": 16,
   "metadata": {},
   "outputs": [
    {
     "name": "stdout",
     "output_type": "stream",
     "text": [
      "{0: tensor([[-1.2916],\n",
      "        [ 3.2023],\n",
      "        [ 3.2195]], dtype=torch.float64)}\n"
     ]
    },
    {
     "data": {
      "image/png": "[encoded data removed]",
      "text/plain": [
       "<Figure size 432x288 with 1 Axes>"
      ]
     },
     "metadata": {},
     "output_type": "display_data"
    },
    {
     "name": "stdout",
     "output_type": "stream",
     "text": [
      "loop ends, here's the theta\n",
      "{0: tensor([[-1.2916],\n",
      "        [ 3.2023],\n",
      "        [ 3.2195]], dtype=torch.float64)}\n",
      "True\n",
      "True\n",
      "True\n",
      "False\n"
     ]
    }
   ],
   "source": [
    "Or.train()\n",
    "print(Or(True, True))\n",
    "print(Or(True, False))\n",
    "print(Or(False, True))\n",
    "print(Or(False, False))"
   ]
  },
  {
   "cell_type": "code",
   "execution_count": 17,
   "metadata": {},
   "outputs": [
    {
     "name": "stdout",
     "output_type": "stream",
     "text": [
      "{0: tensor([[ 1.6908],\n",
      "        [-3.6452]], dtype=torch.float64)}\n"
     ]
    },
    {
     "data": {
      "image/png": "[encoded data removed]",
      "text/plain": [
       "<Figure size 432x288 with 1 Axes>"
      ]
     },
     "metadata": {},
     "output_type": "display_data"
    },
    {
     "name": "stdout",
     "output_type": "stream",
     "text": [
      "loop ends, here's the theta\n",
      "{0: tensor([[ 1.6908],\n",
      "        [-3.6452]], dtype=torch.float64)}\n",
      "True\n",
      "False\n"
     ]
    }
   ],
   "source": [
    "Not.train()\n",
    "print(Not(False))\n",
    "print(Not(True))"
   ]
  },
  {
   "cell_type": "code",
   "execution_count": 18,
   "metadata": {},
   "outputs": [
    {
     "name": "stdout",
     "output_type": "stream",
     "text": [
      "{0: tensor([[ 2.5949, -1.9076],\n",
      "        [ 4.6864,  3.5319],\n",
      "        [-4.6630, -3.8185]], dtype=torch.float64), 1: tensor([[ 2.3328],\n",
      "        [-5.1739],\n",
      "        [ 5.5114]], dtype=torch.float64)}\n",
      "loop ends, here's the theta\n",
      "{0: tensor([[ 2.5949, -1.9076],\n",
      "        [ 4.6864,  3.5319],\n",
      "        [-4.6630, -3.8185]], dtype=torch.float64), 1: tensor([[ 2.3328],\n",
      "        [-5.1739],\n",
      "        [ 5.5114]], dtype=torch.float64)}\n",
      "False\n",
      "True\n",
      "True\n",
      "False\n"
     ]
    }
   ],
   "source": [
    "Xor.train()\n",
    "print(Xor(True, True))\n",
    "print(Xor(True, False))\n",
    "print(Xor(False, True))\n",
    "print(Xor(False, False))"
   ]
  }
 ],
 "metadata": {
  "kernelspec": {
   "display_name": "Python 3",
   "language": "python",
   "name": "python3"
  },
  "language_info": {
   "codemirror_mode": {
    "name": "ipython",
    "version": 3
   },
   "file_extension": ".py",
   "mimetype": "text/x-python",
   "name": "python",
   "nbconvert_exporter": "python",
   "pygments_lexer": "ipython3",
   "version": "3.6.5"
  }
 },
 "nbformat": 4,
 "nbformat_minor": 2
}

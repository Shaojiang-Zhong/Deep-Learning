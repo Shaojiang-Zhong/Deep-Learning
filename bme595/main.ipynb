{
 "cells": [
  {
   "cell_type": "code",
   "execution_count": 1,
   "metadata": {},
   "outputs": [],
   "source": [
    "from conv import Conv2D\n",
    "import torch \n",
    "from PIL import Image\n",
    "from torchvision.transforms import ToTensor\n",
    "from torch.autograd import Variable\n",
    "import matplotlib.pyplot as plt\n",
    "import numpy as np\n",
    "import time"
   ]
  },
  {
   "cell_type": "code",
   "execution_count": 2,
   "metadata": {},
   "outputs": [],
   "source": [
    "image1 = Image.open('testImage1.jpg')\n",
    "image1 = ToTensor()(image1).unsqueeze(0)\n",
    "image1=Variable(image1)\n",
    "image1 = image1[0]"
   ]
  },
  {
   "cell_type": "code",
   "execution_count": 3,
   "metadata": {},
   "outputs": [],
   "source": [
    "image2 = Image.open('testImage2.jpg')\n",
    "image2 = ToTensor()(image2).unsqueeze(0)\n",
    "image2=Variable(image2)\n",
    "image2 = image2[0]"
   ]
  },
  {
   "cell_type": "code",
   "execution_count": 4,
   "metadata": {},
   "outputs": [],
   "source": [
    "def saveImage(imageTensor, imageNum, taskNum, kernalNum):\n",
    "    output_image = imageTensor.numpy()\n",
    "    output_img_norm=(((output_image[kernalNum,:,:] - output_image[kernalNum,:,:].min()) / output_image[kernalNum,:,:].max()-output_image[kernalNum,:,:].min()) * 255.0).astype(np.uint8)\n",
    "    output_img_gray = Image.fromarray(output_img_norm)\n",
    "    image_name = 'out_%s_task_%s_%s.jpg'%(imageNum,taskNum,kernalNum)\n",
    "    output_img_gray.save(image_name)\n"
   ]
  },
  {
   "cell_type": "code",
   "execution_count": 5,
   "metadata": {},
   "outputs": [
    {
     "data": {
      "text/plain": [
       "'\\nPart A.\\nInitialize Conv2D in main.py (conv2d = Conv2D(*args)) for one of the task.\\nCall conv2d.forward() with your input image [3D FloatTensor]. The forward() function must return output [int, 3D FloatTensor].\\nSave each channel of output tensor separately as a grayscale image in your main repository.\\nRepeat 2-4 for all the three tasks.\\n'"
      ]
     },
     "execution_count": 5,
     "metadata": {},
     "output_type": "execute_result"
    }
   ],
   "source": [
    "\"\"\"\n",
    "Part A.\n",
    "Initialize Conv2D in main.py (conv2d = Conv2D(*args)) for one of the task.\n",
    "Call conv2d.forward() with your input image [3D FloatTensor]. The forward() function must return output [int, 3D FloatTensor].\n",
    "Save each channel of output tensor separately as a grayscale image in your main repository.\n",
    "Repeat 2-4 for all the three tasks.\n",
    "\"\"\""
   ]
  },
  {
   "cell_type": "code",
   "execution_count": 6,
   "metadata": {},
   "outputs": [
    {
     "name": "stdout",
     "output_type": "stream",
     "text": [
      "here!!\n",
      "15642720\n",
      "-68.02485918998718\n",
      "torch.Size([1, 720, 1280])\n"
     ]
    }
   ],
   "source": [
    "#task 1\n",
    "start = time.time()\n",
    "conv2d = Conv2D(in_channel=3, o_channel=1, kernel_size=3, stride=1, mode='known')\n",
    "Number_of_ops, output_image = conv2d.forward(image1)\n",
    "end = time.time()\n",
    "print(Number_of_ops)\n",
    "print(start-end)\n",
    "print(output_image.size())\n",
    "saveImage(output_image, 1, 1, 0)"
   ]
  },
  {
   "cell_type": "code",
   "execution_count": 34,
   "metadata": {},
   "outputs": [
    {
     "name": "stdout",
     "output_type": "stream",
     "text": [
      "here!!\n",
      "-313.0046410560608\n",
      "90034560\n",
      "torch.Size([2, 720, 1280])\n"
     ]
    }
   ],
   "source": [
    "#task 2\n",
    "start = time.time()\n",
    "conv2d = Conv2D(in_channel=3, o_channel=2, kernel_size=5, stride=1, mode='known')\n",
    "Number_of_ops, output_image = conv2d.forward(image1)\n",
    "end = time.time()\n",
    "print(start-end)\n",
    "print(Number_of_ops)\n",
    "print(output_image.size())\n",
    "for i in range(2):\n",
    "    saveImage(imageTensor=output_image, imageNum=1, taskNum=2, kernalNum=i)\n"
   ]
  },
  {
   "cell_type": "code",
   "execution_count": 35,
   "metadata": {},
   "outputs": [
    {
     "name": "stdout",
     "output_type": "stream",
     "text": [
      "here!!\n",
      "-49.48606514930725\n",
      "11732040\n",
      "torch.Size([3, 720, 1280])\n"
     ]
    }
   ],
   "source": [
    "#task 3\n",
    "start = time.time()\n",
    "conv2d = Conv2D(in_channel=3, o_channel=3, kernel_size=3, stride=2, mode='known')\n",
    "Number_of_ops, output_image = conv2d.forward(image1)\n",
    "end = time.time()\n",
    "print(start-end)\n",
    "print(Number_of_ops)\n",
    "print(output_image.size())\n",
    "for i in range(3):\n",
    "    saveImage(imageTensor=output_image, imageNum=1, taskNum=3, kernalNum=i)"
   ]
  },
  {
   "cell_type": "code",
   "execution_count": 15,
   "metadata": {},
   "outputs": [
    {
     "data": {
      "text/plain": [
       "'\\nPart B\\nInitialize Conv2D using values of Task 1 and set o_channel to 2^i (i = 0, 1, …, 10) and mode=’rand’.\\nPlot the time taken for performing each forward() pass as a function of i.\\n'"
      ]
     },
     "execution_count": 15,
     "metadata": {},
     "output_type": "execute_result"
    }
   ],
   "source": [
    "'''\n",
    "Part B\n",
    "Initialize Conv2D using values of Task 1 and set o_channel to 2^i (i = 0, 1, …, 10) and mode=’rand’.\n",
    "Plot the time taken for performing each forward() pass as a function of i.\n",
    "'''"
   ]
  },
  {
   "cell_type": "code",
   "execution_count": null,
   "metadata": {},
   "outputs": [
    {
     "name": "stdout",
     "output_type": "stream",
     "text": [
      "0\n",
      "15642720\n",
      "torch.Size([1, 720, 1280])\n",
      "100.03616261482239\n",
      "1\n",
      "31285440\n",
      "torch.Size([2, 720, 1280])\n",
      "188.1588740348816\n",
      "2\n",
      "62570880\n",
      "torch.Size([4, 720, 1280])\n",
      "371.49974513053894\n",
      "3\n",
      "125141760\n",
      "torch.Size([8, 720, 1280])\n",
      "754.2547178268433\n",
      "4\n",
      "250283520\n",
      "torch.Size([16, 720, 1280])\n",
      "1487.7864651679993\n"
     ]
    }
   ],
   "source": [
    "import time\n",
    "import matplotlib.pyplot as plt\n",
    "\n",
    "timeList = []\n",
    "iList = []\n",
    "for i in range(0,11):\n",
    "    start = time.time()\n",
    "    conv2d = Conv2D(in_channel=3, o_channel=2**i, kernel_size=3, stride=1, mode='rand')\n",
    "    Number_of_ops, output_image = conv2d.forward(image1)\n",
    "    end = time.time()\n",
    "    print(i)\n",
    "    print(Number_of_ops)\n",
    "    print(output_image.size())\n",
    "    print(end-start)\n",
    "    timeList.append(end-start)\n",
    "    iList.append(i)\n"
   ]
  },
  {
   "cell_type": "code",
   "execution_count": null,
   "metadata": {},
   "outputs": [
    {
     "name": "stdout",
     "output_type": "stream",
     "text": [
      "here!!\n"
     ]
    }
   ],
   "source": [
    "import time\n",
    "import matplotlib.pyplot as plt\n",
    "\n",
    "timeList = []\n",
    "iList = []\n",
    "i = 5\n",
    "start = time.time()\n",
    "conv2d = Conv2D(in_channel=3, o_channel=2**i, kernel_size=3, stride=1, mode='rand')\n",
    "Number_of_ops, output_image = conv2d.forward(image1)\n",
    "end = time.time()\n",
    "print(i)\n",
    "print(Number_of_ops)\n",
    "print(output_image.size())\n",
    "print(end-start)\n",
    "timeList.append(end-start)\n",
    "iList.append(i)\n"
   ]
  },
  {
   "cell_type": "code",
   "execution_count": null,
   "metadata": {},
   "outputs": [],
   "source": [
    "plt.plot(iList, timeList, 'ro')\n",
    "plt.axis([0, 12, 0, timeList[-1]])\n",
    "plt.show()"
   ]
  },
  {
   "cell_type": "code",
   "execution_count": null,
   "metadata": {},
   "outputs": [],
   "source": [
    "\"\"\"\n",
    "Part C\n",
    "Initialize Conv2D using values of Task 2 with kernel_size=3, 5, …, 11 and mode=’rand’.\n",
    "Plot number of operations (int returned by forward()) used to perform convolution as a function of kernel_size.\n",
    "\"\"\""
   ]
  },
  {
   "cell_type": "code",
   "execution_count": 10,
   "metadata": {},
   "outputs": [
    {
     "name": "stdout",
     "output_type": "stream",
     "text": [
      "here!!\n",
      "3\n",
      "31285440\n",
      "torch.Size([2, 720, 1280])\n",
      "here!!\n",
      "5\n",
      "90034560\n",
      "torch.Size([2, 720, 1280])\n",
      "here!!\n",
      "7\n",
      "177952320\n",
      "torch.Size([2, 720, 1280])\n",
      "here!!\n",
      "9\n",
      "294900480\n",
      "torch.Size([2, 720, 1280])\n",
      "here!!\n",
      "11\n",
      "440740800\n",
      "torch.Size([2, 720, 1280])\n"
     ]
    },
    {
     "data": {
      "image/png": "[encoded data removed]",
      "text/plain": [
       "<Figure size 432x288 with 1 Axes>"
      ]
     },
     "metadata": {},
     "output_type": "display_data"
    }
   ],
   "source": [
    "operationList = []\n",
    "ksList = []\n",
    "for ks in range(3,13,2):\n",
    "    conv2d = Conv2D(in_channel=3, o_channel=2, kernel_size=ks, stride=1, mode='rand')\n",
    "    Number_of_ops, output_image = conv2d.forward(image1)\n",
    "    print(ks)\n",
    "    print(Number_of_ops)\n",
    "    print(output_image.size())\n",
    "    operationList.append(Number_of_ops)\n",
    "    ksList.append(ks)\n",
    "plt.plot(ksList, operationList, 'ro')\n",
    "plt.axis([0, 13, 0, operationList[-1]])\n",
    "plt.show()"
   ]
  },
  {
   "cell_type": "code",
   "execution_count": null,
   "metadata": {},
   "outputs": [],
   "source": []
  }
 ],
 "metadata": {
  "kernelspec": {
   "display_name": "Python 3",
   "language": "python",
   "name": "python3"
  },
  "language_info": {
   "codemirror_mode": {
    "name": "ipython",
    "version": 3
   },
   "file_extension": ".py",
   "mimetype": "text/x-python",
   "name": "python",
   "nbconvert_exporter": "python",
   "pygments_lexer": "ipython3",
   "version": "3.6.5"
  }
 },
 "nbformat": 4,
 "nbformat_minor": 2
}
